{
 "cells": [
  {
   "cell_type": "markdown",
   "metadata": {},
   "source": [
    "# Outline of project\n",
    "\n",
    "* Dataset being imported\n",
    "* Visualize some aspect of the dataset\n",
    "* Create Train and Validation dataset\n",
    "* Create Our Vocabulary and tokenizer\n",
    "* Create the model\n",
    "* setup the training loop for the model\n",
    "* Visualizatoin of model prediction\n",
    "\n",
    "Metrics Blue, Earlystoping as per paper,  \n"
   ]
  },
  {
   "cell_type": "code",
   "execution_count": null,
   "metadata": {},
   "outputs": [],
   "source": []
  },
  {
   "cell_type": "code",
   "execution_count": null,
   "metadata": {},
   "outputs": [],
   "source": []
  },
  {
   "cell_type": "code",
   "execution_count": null,
   "metadata": {},
   "outputs": [],
   "source": []
  },
  {
   "cell_type": "code",
   "execution_count": null,
   "metadata": {},
   "outputs": [],
   "source": []
  }
 ],
 "metadata": {
  "language_info": {
   "name": "python"
  },
  "orig_nbformat": 4
 },
 "nbformat": 4,
 "nbformat_minor": 2
}
